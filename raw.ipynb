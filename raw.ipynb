{
 "cells": [
  {
   "cell_type": "code",
   "execution_count": 5,
   "metadata": {
    "_datascience": {},
    "collapsed": false
   },
   "outputs": [
    {
     "name": "stdout",
     "output_type": "stream",
     "text": [
      "\u001b[33mYou are using pip version 7.0.3, however version 7.1.0 is available.\n",
      "You should consider upgrading via the 'pip install --upgrade pip' command.\u001b[0m\n",
      "Collecting MySQL-python\n",
      "  Downloading MySQL-python-1.2.5.zip (108kB)\n",
      "\u001b[K    100% |################################| 110kB 1.2MB/s \n",
      "\u001b[?25hBuilding wheels for collected packages: MySQL-python\n",
      "  Running setup.py bdist_wheel for MySQL-python\n",
      "  Stored in directory: /root/.cache/pip/wheels/8c/0d/11/d654cad764b92636ce047897dd2b9e1b0cd76c22f813c5851a\n",
      "Successfully built MySQL-python\n",
      "Installing collected packages: MySQL-python\n",
      "Successfully installed MySQL-python-1.2.5\n"
     ]
    }
   ],
   "source": [
    "! sudo pip install MySQL-python"
   ]
  },
  {
   "cell_type": "code",
   "execution_count": 1,
   "metadata": {
    "_datascience": {},
    "collapsed": false
   },
   "outputs": [],
   "source": [
    "import requests\n",
    "import MySQLdb as mdb\n",
    "import pandas as pd\n",
    "import numpy as np\n",
    "import json\n",
    "import ConfigParser\n",
    "import time"
   ]
  },
  {
   "cell_type": "code",
   "execution_count": 2,
   "metadata": {
    "_datascience": {},
    "collapsed": false
   },
   "outputs": [],
   "source": [
    "propertiesFile = \"my.properties\"\n",
    "cp = ConfigParser.ConfigParser()\n",
    "cp.readfp(open(propertiesFile))\n",
    "\n",
    "db_host     = cp.get('Params', 'db_host')\n",
    "db_user     = cp.get('Params', 'db_user')\n",
    "db_password = cp.get('Params', 'db_password')\n",
    "db_db       = cp.get('Params', 'db_db')"
   ]
  },
  {
   "cell_type": "code",
   "execution_count": 3,
   "metadata": {
    "_datascience": {},
    "collapsed": false
   },
   "outputs": [],
   "source": [
    "conn = mdb.connect(host=db_host, user=db_user, passwd=db_password, db=db_db)"
   ]
  },
  {
   "cell_type": "code",
   "execution_count": 4,
   "metadata": {
    "_datascience": {},
    "collapsed": true
   },
   "outputs": [],
   "source": [
    "url1 = 'http://en.wikipedia.org/w/api.php?action=query&list=usercontribs&ucuser='\n",
    "url2 = '&uclimit=5000&ucdir=newer&format=json'"
   ]
  },
  {
   "cell_type": "code",
   "execution_count": 5,
   "metadata": {
    "_datascience": {},
    "collapsed": true
   },
   "outputs": [],
   "source": [
    "cache = {}"
   ]
  },
  {
   "cell_type": "code",
   "execution_count": 6,
   "metadata": {
    "_datascience": {},
    "collapsed": false
   },
   "outputs": [],
   "source": [
    "query = \"INSERT INTO contributions (comment, ns, pageid, parentid, revid, size, timestamp, title, editor_id) VALUES ('{}',{},{},{},{},{},'{}','{}',{})\"\n",
    "query2 = \"UPDATE editor SET last_uccontinue='{}' where editor_id={}\""
   ]
  },
  {
   "cell_type": "code",
   "execution_count": null,
   "metadata": {
    "_datascience": {},
    "collapsed": false
   },
   "outputs": [],
   "source": [
    "query = \"select * from editor\"\n",
    "df = pd.read_sql(query, conn)\n",
    "cur = conn.cursor()\n",
    "for r in range(df.shape[0]):\n",
    "    row = df.iloc[r]\n",
    "    name = row['name']\n",
    "    editor_id = row['editor_id']\n",
    "    uccontinue = row['last_uccontinue']\n",
    "    url = url1 + name + url2\n",
    "    if uccontinue > 0:\n",
    "        url = url + '&uccontinue=' + str(uccontinue)\n",
    "    try:\n",
    "        data = cache[url]\n",
    "    except KeyError:\n",
    "        print 'Getting ' + url\n",
    "        r = requests.get(url)\n",
    "        data = json.loads(r.text)\n",
    "        cache[url] = data\n",
    "    contributions = data['query']['usercontribs']\n",
    "    for contribution in contributions:\n",
    "        title = contribution['title'].replace(\"'\", \"''\")\n",
    "        comment = contribution['comment'].replace(\"'\", \"''\").encode('ascii', 'ignore')\n",
    "        q = query.format(comment, contribution['ns'], contribution['pageid'], contribution['parentid'], contribution['revid'], contribution['size'], contribution['timestamp'], title, editor_id)\n",
    "        cur.execute(q)\n",
    "        conn.commit()\n",
    "    if data.has_key('continue'):\n",
    "        ucc = data['continue']['uccontinue']\n",
    "        q2 = query2.format(ucc, editor_id)\n",
    "        cur.execute(q2)\n",
    "        conn.commit()\n",
    "    else:\n",
    "        ucc = -1\n",
    "\n",
    "cur.close()"
   ]
  },
  {
   "cell_type": "code",
   "execution_count": null,
   "metadata": {
    "_datascience": {},
    "collapsed": true
   },
   "outputs": [],
   "source": []
  },
  {
   "cell_type": "code",
   "execution_count": 180,
   "metadata": {
    "_datascience": {},
    "collapsed": true
   },
   "outputs": [],
   "source": [
    "query = \"select distinct pageid, title from contributions\"\n",
    "df2 = pd.read_sql(query, conn)"
   ]
  },
  {
   "cell_type": "code",
   "execution_count": 213,
   "metadata": {
    "_datascience": {},
    "collapsed": true
   },
   "outputs": [],
   "source": [
    "cache = {}"
   ]
  },
  {
   "cell_type": "code",
   "execution_count": 214,
   "metadata": {
    "_datascience": {},
    "collapsed": false
   },
   "outputs": [],
   "source": [
    "for r in range(df2.shape[0]):\n",
    "    row = df2.iloc[r]\n",
    "    title = row.title\n",
    "    url = 'http://stats.grok.se/json/en/latest90/' + title\n",
    "    try:\n",
    "        data = cache[url]\n",
    "    except KeyError:\n",
    "        r = requests.get(url)\n",
    "        data = json.loads(r.text)\n",
    "        data['pageid'] = row.pageid\n",
    "        cache[url] = data\n",
    "        time.sleep(.5)"
   ]
  },
  {
   "cell_type": "code",
   "execution_count": 218,
   "metadata": {
    "_datascience": {},
    "collapsed": true
   },
   "outputs": [],
   "source": [
    "query = \"INSERT INTO page_views (pageid, project, dt, views) VALUES({}, '{}', '{}', {}) ON DUPLICATE KEY UPDATE views=VALUES(views)\""
   ]
  },
  {
   "cell_type": "code",
   "execution_count": 222,
   "metadata": {
    "_datascience": {},
    "collapsed": false
   },
   "outputs": [],
   "source": [
    "cur = conn.cursor()\n",
    "project = data['project']\n",
    "pageid = data['pageid']\n",
    "dvs = data['daily_views']\n",
    "for dv in dvs.keys():\n",
    "    pv = dvs[dv]\n",
    "    q = query.format(pageid, project, dv, pv)\n",
    "    cur.execute(q)\n",
    "    conn.commit()\n",
    "\n",
    "cur.close()"
   ]
  },
  {
   "cell_type": "code",
   "execution_count": null,
   "metadata": {
    "_datascience": {},
    "collapsed": true
   },
   "outputs": [],
   "source": [
    "\n"
   ]
  },
  {
   "cell_type": "code",
   "execution_count": 223,
   "metadata": {
    "_datascience": {},
    "collapsed": true
   },
   "outputs": [],
   "source": [
    "#http://stats.grok.se/json/en/latest90/apples\n",
    "#http://dumps.wikimedia.org/other/pagecounts-raw/2015/2015-08/"
   ]
  },
  {
   "cell_type": "code",
   "execution_count": null,
   "metadata": {
    "_datascience": {},
    "collapsed": true
   },
   "outputs": [],
   "source": [
    "# List of gsow editors, last uccontinue"
   ]
  },
  {
   "cell_type": "code",
   "execution_count": 1,
   "metadata": {
    "_datascience": {},
    "collapsed": true
   },
   "outputs": [],
   "source": [
    "\n",
    "# List of pages edited\n",
    "# By whom and when\n",
    "# pageview data on all\n",
    "# persist all"
   ]
  },
  {
   "cell_type": "markdown",
   "metadata": {
    "_datascience": {}
   },
   "source": [
    "* get pageview data\n",
    "* get pages changed by users in a list"
   ]
  },
  {
   "cell_type": "code",
   "execution_count": null,
   "metadata": {
    "_datascience": {},
    "collapsed": true
   },
   "outputs": [],
   "source": []
  },
  {
   "cell_type": "markdown",
   "metadata": {
    "_datascience": {}
   },
   "source": [
    "* Define a metric measuring the significance of a change (e.g. include missing hyperlink vs. completely new article written)\n",
    "* Track the number of page views for edited page of GSoW editors\n",
    "* Provide exploratory and visual tools to assess and measure the impact of the team's efforts\n"
   ]
  }
 ],
 "metadata": {
  "_datascience": {},
  "kernelspec": {
   "display_name": "Python 2",
   "language": "python",
   "name": "python2"
  },
  "language_info": {
   "codemirror_mode": {
    "name": "ipython",
    "version": 2
   },
   "file_extension": ".py",
   "mimetype": "text/x-python",
   "name": "python",
   "nbconvert_exporter": "python",
   "pygments_lexer": "ipython2",
   "version": "2.7.6"
  }
 },
 "nbformat": 4,
 "nbformat_minor": 0
}
